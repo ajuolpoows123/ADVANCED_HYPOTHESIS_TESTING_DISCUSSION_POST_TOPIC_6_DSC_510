{
 "cells": [
  {
   "cell_type": "markdown",
   "metadata": {},
   "source": [
    "Common Assumptions:\n",
    "\n",
    "For paired data (paired t-test), assumptions include normality of differences, independence of pairs, and interval or ratio scale data.\n",
    "\n",
    " \n",
    "\n",
    "Violations and Remedies: \n",
    "\n",
    "Violating these assumptions can lead to unreliable results, with a signed-rank test as a remedy. For multiple population means (One-Way ANOVA), normality, homogeneity of variance, and independence are key assumptions. Violating homogeneity of variance may lead to inaccurate conclusions, with Welch’s ANOVA offering a solution. For variance comparisons (F-test), normality, independence, and homogeneity of variance must hold, and violations can be addressed with Levene’s test.\n",
    "\n",
    " \n",
    "\n",
    "Limitations:\n",
    "\n",
    "Practical limitations include the impact of outliers, small sample sizes, and the need to consider effect size and context when interpreting p-values.\n",
    "\n",
    " \n",
    "\n",
    "Dataset Examples Below:\n",
    "\n",
    "The dataset includes income data across sectors (Tech, Finance, Healthcare) and income groups (Low, Medium, High) alongside savings program effectiveness and monthly spending variability. "
   ]
  },
  {
   "cell_type": "markdown",
   "metadata": {},
   "source": [
    "https://docs.google.com/document/d/1QsegCZLC-OHAiTxDiDOssUcFCqm74HKhbYBD_niEJ24/edit?tab=t.0\n"
   ]
  },
  {
   "cell_type": "code",
   "execution_count": 3,
   "metadata": {},
   "outputs": [
    {
     "name": "stdout",
     "output_type": "stream",
     "text": [
      "Test\n",
      "Type\n",
      "Example\n",
      "Group\n",
      "1\n",
      "(Before\n",
      ")\n",
      "Group\n",
      "2\n",
      "(After\n",
      ")\n",
      "Grou\n",
      "p\n",
      "3\n",
      "(Tech\n",
      ")\n",
      "Group\n",
      "4\n",
      "(Finance\n",
      ")\n",
      "Group\n",
      "5\n",
      "(Healthcare\n",
      ")\n",
      "Group\n",
      "6\n",
      "(Low\n",
      "Income\n",
      ")\n",
      "Group\n",
      "7\n",
      "(Mediu\n",
      "m\n",
      "Income)\n",
      "Group\n",
      "8\n",
      "(High\n",
      "Income\n",
      ")\n",
      "Paired\n",
      "Data\n",
      "Savings\n",
      "program\n",
      "effectivene\n",
      "ss\n",
      "1500\n",
      "1800\n",
      "(Before\n",
      "vs\n",
      "After\n",
      "Savings\n",
      "Program)\n",
      "2000\n",
      "2200\n",
      "1200\n",
      "1500\n",
      "Multiple\n",
      "Population\n",
      "Means\n",
      "Average\n",
      "annual\n",
      "income\n",
      "across\n",
      "sectors\n",
      "6000\n",
      "0\n",
      "70000\n",
      "65000\n",
      "8000\n",
      "0\n",
      "75000\n",
      "72000\n",
      "6500\n",
      "0\n",
      "68000\n",
      "71000\n",
      "Variance\n",
      "Comparison\n",
      "s\n",
      "Monthly\n",
      "spending\n",
      "variability\n",
      "by\n",
      "income\n",
      "500\n",
      "800\n",
      "1000\n",
      "(Low,\n",
      "Medium,\n",
      "High\n",
      "Income)\n",
      "600\n",
      "850\n",
      "1200\n",
      "550\n",
      "780\n",
      "1100\n"
     ]
    }
   ],
   "source": [
    "import PyPDF2\n",
    "\n",
    "# Path to your PDF file\n",
    "pdf_file_path = r\"C:\\Users\\jamar\\Downloads\\Savings_Income_Spending_Dataset.pdf\"\n",
    "\n",
    "# Open the PDF file\n",
    "with open(pdf_file_path, \"rb\") as file:\n",
    "    reader = PyPDF2.PdfReader(file)\n",
    "    # Loop through all pages and print their text\n",
    "    for page_num in range(len(reader.pages)):\n",
    "        page = reader.pages[page_num]\n",
    "        print(page.extract_text())"
   ]
  },
  {
   "cell_type": "code",
   "execution_count": 6,
   "metadata": {},
   "outputs": [
    {
     "name": "stdout",
     "output_type": "stream",
     "text": [
      "F-statistic: 1.1720183486238536, P-value: 0.3428144743410598, Not Significant\n"
     ]
    }
   ],
   "source": [
    "import scipy.stats as stats\n",
    "f_stat, p_value = stats.f_oneway([60000, 65000, 70000, 80000, 65000], [70000, 75000, 80000, 68000, 72000], [65000, 72000, 68000, 71000, 70000])\n",
    "print(f\"F-statistic: {f_stat}, P-value: {p_value}, {'Significant' if p_value < 0.05 else 'Not Significant'}\")"
   ]
  },
  {
   "cell_type": "code",
   "execution_count": 7,
   "metadata": {},
   "outputs": [
    {
     "data": {
      "image/png": "[encoded data removed]",
      "text/plain": [
       "<Figure size 640x480 with 1 Axes>"
      ]
     },
     "metadata": {},
     "output_type": "display_data"
    }
   ],
   "source": [
    "import matplotlib.pyplot as plt\n",
    "\n",
    "sectors = ['Tech', 'Finance', 'Healthcare']\n",
    "incomes = [np.mean(tech_income), np.mean(finance_income), np.mean(healthcare_income)]\n",
    "\n",
    "plt.bar(sectors, incomes, color=['blue', 'green', 'red'])\n",
    "plt.title(\"Average Annual Income by Sector\")\n",
    "plt.ylabel(\"Average Income ($)\")\n",
    "plt.show()\n"
   ]
  }
 ],
 "metadata": {
  "kernelspec": {
   "display_name": "Python 3",
   "language": "python",
   "name": "python3"
  },
  "language_info": {
   "codemirror_mode": {
    "name": "ipython",
    "version": 3
   },
   "file_extension": ".py",
   "mimetype": "text/x-python",
   "name": "python",
   "nbconvert_exporter": "python",
   "pygments_lexer": "ipython3",
   "version": "3.12.1"
  }
 },
 "nbformat": 4,
 "nbformat_minor": 2
}
